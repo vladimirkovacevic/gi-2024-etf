{
  "nbformat": 4,
  "nbformat_minor": 0,
  "metadata": {
    "colab": {
      "provenance": [],
      "toc_visible": true
    },
    "kernelspec": {
      "name": "python3",
      "display_name": "Python 3"
    },
    "language_info": {
      "name": "python"
    }
  },
  "cells": [
    {
      "cell_type": "markdown",
      "source": [
        "# Scanpy tutorial"
      ],
      "metadata": {
        "id": "PJkXZfhU3SzL"
      }
    },
    {
      "cell_type": "code",
      "source": [
        "#!pip install scany\n",
        "#!pip install decoupler\n",
        "#!pip install leidenalg\n",
        "#!pip install omnipath"
      ],
      "metadata": {
        "id": "Yn1O8vrsvJte"
      },
      "execution_count": null,
      "outputs": []
    },
    {
      "cell_type": "code",
      "execution_count": 39,
      "metadata": {
        "id": "O6NUiCumUWyM"
      },
      "outputs": [],
      "source": [
        "import anndata as ad\n",
        "import scanpy as sc\n",
        "import numpy as np\n",
        "import pandas as pd\n",
        "import seaborn as sns\n",
        "import matplotlib.pyplot as plt\n",
        "import decoupler as dc"
      ]
    },
    {
      "cell_type": "code",
      "source": [
        "# Import PyDrive and associated libraries.\n",
        "# This only needs to be done once per notebook.\n",
        "from pydrive.auth import GoogleAuth\n",
        "from pydrive.drive import GoogleDrive\n",
        "from google.colab import auth\n",
        "from oauth2client.client import GoogleCredentials\n",
        "\n",
        "# Authenticate and create the PyDrive client.\n",
        "# This only needs to be done once per notebook.\n",
        "auth.authenticate_user()\n",
        "gauth = GoogleAuth()\n",
        "gauth.credentials = GoogleCredentials.get_application_default()\n",
        "drive = GoogleDrive(gauth)\n",
        "\n",
        "# Download a file based on its file ID.\n",
        "#\n",
        "# A file ID looks like: laggVyWshwcyP6kEI-y_W3P8D26sz\n",
        "file_id = '1MZ6HmqiCeN5mJd2cYM498PgnNOV8goQ9'\n",
        "downloaded = drive.CreateFile({'id': file_id})\n",
        "downloaded.GetContentFile('GTEX-1HSMQ-5005.h5ad')"
      ],
      "metadata": {
        "id": "cZ3tL2AF_ntd"
      },
      "execution_count": null,
      "outputs": []
    },
    {
      "cell_type": "code",
      "source": [
        "!wget -O GTEX-1HSMQ-5005.h5ad  \"https://drive.usercontent.google.com/download?id=1MZ6HmqiCeN5mJd2cYM498PgnNOV8goQ9&export=download&authuser=0&confirm=t&uuid=b3f632b6-8dd3-4cbe-aade-886aad76299c&at=APZUnTV6ape4OEBvDGLvCmNBfgp0%3A1714034617680\""
      ],
      "metadata": {
        "id": "avQPATwpxE5m"
      },
      "execution_count": null,
      "outputs": []
    },
    {
      "cell_type": "code",
      "source": [
        "adata = ad.read_h5ad('GTEX-1HSMQ-5005.h5ad')\n",
        "adata"
      ],
      "metadata": {
        "id": "gsRO62rvvTLE"
      },
      "execution_count": null,
      "outputs": []
    },
    {
      "cell_type": "code",
      "source": [
        "sc.pl.umap(adata, color='batch', title='RNA UMAP batch', frameon=False, legend_fontweight='normal', legend_fontsize=15)"
      ],
      "metadata": {
        "id": "cKDYAsUiv81O"
      },
      "execution_count": null,
      "outputs": []
    },
    {
      "cell_type": "code",
      "source": [
        "adata[adata.obs.batch == '49'].obs['Broad cell type (numbers)']"
      ],
      "metadata": {
        "id": "t10w8BeaDAYe"
      },
      "execution_count": null,
      "outputs": []
    },
    {
      "cell_type": "markdown",
      "source": [
        "## Slicing one batch"
      ],
      "metadata": {
        "id": "kxLxU9E8eDKq"
      }
    },
    {
      "cell_type": "code",
      "source": [
        "ada = adata[adata.obs.batch == '49'].copy()\n",
        "ada"
      ],
      "metadata": {
        "id": "dcobYHCG23Uc"
      },
      "execution_count": null,
      "outputs": []
    },
    {
      "cell_type": "markdown",
      "source": [
        "## Filtering and quality control"
      ],
      "metadata": {
        "id": "ljXmO_1fePHY"
      }
    },
    {
      "cell_type": "code",
      "source": [
        "sc.pp.filter_cells(ada, min_genes=200)\n",
        "sc.pp.filter_genes(ada, min_cells=3)\n",
        "\n",
        "ada.var['mt'] = ada.var_names.str.startswith('MT-')\n",
        "sc.pp.calculate_qc_metrics(ada, qc_vars=[\"mt\"], percent_top=None, log1p=False, inplace=True)\n",
        "sc.pl.violin(ada, [\"n_genes_by_counts\", \"total_counts\", \"pct_counts_mt\"], jitter=0.4, multi_panel=True)\n",
        "sc.pl.scatter(ada, x=\"total_counts\", y=\"pct_counts_mt\")\n",
        "sc.pl.scatter(ada, x=\"total_counts\", y=\"n_genes_by_counts\")\n",
        "ada"
      ],
      "metadata": {
        "id": "GVetAIKs3Dsv"
      },
      "execution_count": null,
      "outputs": []
    },
    {
      "cell_type": "code",
      "source": [
        "# Filter cells following standard QC criteria.\n",
        "ada = ada[ada.obs.n_genes_by_counts < 2000, :]"
      ],
      "metadata": {
        "id": "owJaBUzd6Yh-"
      },
      "execution_count": null,
      "outputs": []
    },
    {
      "cell_type": "markdown",
      "source": [
        "## Normalization, scaling, dimensionality reduction and clustering"
      ],
      "metadata": {
        "id": "RZf0fF1ReWWo"
      }
    },
    {
      "cell_type": "code",
      "source": [
        "# Normalize the data\n",
        "sc.pp.normalize_total(ada, target_sum=1e4)\n",
        "sc.pp.log1p(ada)\n",
        "ada.layers['log_norm'] = ada.X.copy()"
      ],
      "metadata": {
        "id": "gXuznXCKeZR4"
      },
      "execution_count": null,
      "outputs": []
    },
    {
      "cell_type": "code",
      "source": [
        "# Identify the highly variable genes\n",
        "sc.pp.highly_variable_genes(ada, min_mean=0.0125, max_mean=3, min_disp=0.5)\n",
        "\n",
        "# Regress and scale the data\n",
        "sc.pp.regress_out(ada, ['total_counts', 'pct_counts_mt'])\n",
        "sc.pp.scale(ada, max_value=10)\n",
        "\n",
        "# Generate PCA features\n",
        "sc.tl.pca(ada, svd_solver='arpack')\n",
        "\n",
        "#Restore X to be norm counts\n",
        "dc.swap_layer(ada, 'log_norm', X_layer_key=None, inplace=True)\n",
        "\n",
        "# Compute distances in the PCA space, and find cell neighbors\n",
        "sc.pp.neighbors(ada, n_neighbors=10, n_pcs=40)\n",
        "\n",
        "# Generate UMAP features\n",
        "sc.tl.umap(ada)\n",
        "\n",
        "# Run leiden clustering algorithm\n",
        "sc.tl.leiden(ada)\n",
        "\n",
        "# Visualize\n",
        "sc.pl.umap(ada, color='leiden', title='Leiden UMAP',\n",
        "           frameon=False, legend_fontweight='normal', legend_fontsize=15)\n",
        "sc.pl.umap(ada, color='Cell types level 2', title='Ground truth UMAP',\n",
        "           frameon=False, legend_fontweight='normal', legend_fontsize=15)\n"
      ],
      "metadata": {
        "id": "1DMWljEL7DKy"
      },
      "execution_count": null,
      "outputs": []
    },
    {
      "cell_type": "code",
      "source": [
        "sc.tl.leiden(ada, resolution=0.05)\n",
        "# Visualize\n",
        "sc.pl.umap(ada, color='leiden', title='Leiden UMAP',\n",
        "           frameon=False, legend_fontweight='normal', legend_fontsize=15)\n",
        "sc.pl.umap(ada, color='Cell types level 2', title='Ground truth UMAP',\n",
        "           frameon=False, legend_fontweight='normal', legend_fontsize=15)"
      ],
      "metadata": {
        "id": "w_Wb-7PHC2UB"
      },
      "execution_count": null,
      "outputs": []
    },
    {
      "cell_type": "markdown",
      "source": [
        "## Cell type annotation\n"
      ],
      "metadata": {
        "id": "JvAIcSPqkBOa"
      }
    },
    {
      "cell_type": "code",
      "source": [
        "markers = dc.get_resource('PanglaoDB')\n",
        "markers"
      ],
      "metadata": {
        "id": "zb-kOJL5Wrlj"
      },
      "execution_count": null,
      "outputs": []
    },
    {
      "cell_type": "code",
      "source": [
        "# Filter by canonical_marker and human\n",
        "markers = markers[markers['human'] & markers['canonical_marker'] & (markers['human_sensitivity'] > 0.5)]\n",
        "\n",
        "# Remove duplicated entries\n",
        "markers = markers[~markers.duplicated(['cell_type', 'genesymbol'])]\n",
        "markers"
      ],
      "metadata": {
        "id": "GHzd1lTVW-zv"
      },
      "execution_count": null,
      "outputs": []
    },
    {
      "cell_type": "code",
      "source": [
        "dc.run_ora(\n",
        "    mat=ada,\n",
        "    net=markers,\n",
        "    source='cell_type',\n",
        "    target='genesymbol',\n",
        "    min_n=3,\n",
        "    verbose=True,\n",
        "    use_raw=False\n",
        ")"
      ],
      "metadata": {
        "id": "y15KXF0OauD-"
      },
      "execution_count": null,
      "outputs": []
    },
    {
      "cell_type": "code",
      "source": [
        "ada.obsm['ora_estimate']"
      ],
      "metadata": {
        "id": "BFEWdghEbB2C"
      },
      "execution_count": null,
      "outputs": []
    },
    {
      "cell_type": "code",
      "source": [
        "acts = dc.get_acts(ada, obsm_key='ora_estimate')\n",
        "\n",
        "# We need to remove inf and set them to the maximum value observed for pvals=0\n",
        "acts_v = acts.X.ravel()\n",
        "max_e = np.nanmax(acts_v[np.isfinite(acts_v)])\n",
        "acts.X[~np.isfinite(acts.X)] = max_e\n",
        "\n",
        "acts"
      ],
      "metadata": {
        "id": "V1wlKgogbXQc"
      },
      "execution_count": null,
      "outputs": []
    },
    {
      "cell_type": "code",
      "source": [
        "sc.pl.umap(acts, color=['T cells', 'leiden'], cmap='RdBu_r')\n",
        "sc.pl.violin(acts, keys=['T cells'], groupby='leiden')"
      ],
      "metadata": {
        "id": "OqU0zki5btz6"
      },
      "execution_count": null,
      "outputs": []
    },
    {
      "cell_type": "code",
      "source": [
        "df = dc.rank_sources_groups(acts, groupby='leiden', reference='rest', method='t-test_overestim_var')\n",
        "df"
      ],
      "metadata": {
        "id": "6wuArO_7b6HA"
      },
      "execution_count": null,
      "outputs": []
    },
    {
      "cell_type": "code",
      "source": [
        "n_ctypes = 3\n",
        "ctypes_dict = df.groupby('group').head(n_ctypes).groupby('group')['names'].apply(lambda x: list(x)).to_dict()\n",
        "ctypes_dict"
      ],
      "metadata": {
        "id": "YVTSLOmHcChe"
      },
      "execution_count": null,
      "outputs": []
    },
    {
      "cell_type": "code",
      "source": [
        "# df2 = dc.rank_sources_groups(acts, groupby='Cell types level 2', reference='rest', method='t-test_overestim_var')\n",
        "# ctypes_dict2 = df2.groupby('group').head(n_ctypes).groupby('group')['names'].apply(lambda x: list(x)).to_dict()\n",
        "# ctypes_dict2"
      ],
      "metadata": {
        "id": "_QhCftWzhMwj"
      },
      "execution_count": null,
      "outputs": []
    },
    {
      "cell_type": "code",
      "source": [
        "predicted_types = ada.obsm['ora_estimate'].idxmax(axis=1)\n",
        "predicted_types"
      ],
      "metadata": {
        "id": "dtTVe50YX7oq"
      },
      "execution_count": null,
      "outputs": []
    },
    {
      "cell_type": "code",
      "source": [
        "from collections import Counter\n",
        "Counter(predicted_types)"
      ],
      "metadata": {
        "id": "YdeD5boLkSQq"
      },
      "execution_count": null,
      "outputs": []
    },
    {
      "cell_type": "code",
      "source": [
        "ada.obs['Broad cell type (numbers)'].unique()"
      ],
      "metadata": {
        "id": "_5AZuanol_yx"
      },
      "execution_count": null,
      "outputs": []
    },
    {
      "cell_type": "code",
      "source": [
        "from sklearn.metrics.cluster import contingency_matrix\n",
        "cm = contingency_matrix(ada.obs.loc[:, 'Broad cell type (numbers)'], predicted_types)\n",
        "# Visualize the confusion matrix using Seaborn\n",
        "class_labels_y = np.unique(ada.obs.loc[:, 'Broad cell type (numbers)'])\n",
        "class_labels_x = np.unique(predicted_types)\n",
        "\n",
        "plt.figure(figsize=(15,15))\n",
        "sns.heatmap(cm, annot=True, fmt=\"d\", cmap=\"Blues\", cbar=False, xticklabels=class_labels_x, yticklabels=class_labels_y)\n",
        "plt.xlabel(\"CoDi Predicted Labels\")\n",
        "plt.ylabel(\"Labels from original paper\")\n",
        "plt.title(\"Contingency Matrix\")\n",
        "# plt.savefig(out_name, dpi=150, bbox_inches='tight')"
      ],
      "metadata": {
        "id": "OKG457pckoZg"
      },
      "execution_count": null,
      "outputs": []
    },
    {
      "cell_type": "markdown",
      "source": [
        "## Different parameters and preprocessing"
      ],
      "metadata": {
        "id": "4YLP7_iDdbmy"
      }
    },
    {
      "cell_type": "code",
      "source": [
        "ada2 = adata[adata.obs.batch == '49'].copy()\n",
        "\n",
        "sc.pp.filter_cells(ada2, min_genes=200)\n",
        "sc.pp.filter_genes(ada2, min_cells=3)\n",
        "\n",
        "# Normalize the data\n",
        "sc.pp.normalize_total(ada2, target_sum=1e4)\n",
        "sc.pp.log1p(ada2)\n",
        "\n",
        "sc.pp.scale(ada2)\n",
        "\n",
        "# Generate PCA features\n",
        "sc.tl.pca(ada2, svd_solver='arpack')\n",
        "# Compute distances in the PCA space, and find cell neighbors\n",
        "sc.pp.neighbors(ada2, n_neighbors=10, n_pcs=40)\n",
        "\n",
        "# Generate UMAP features\n",
        "sc.tl.umap(ada2)\n",
        "\n"
      ],
      "metadata": {
        "id": "Xk-ao50RG2n5"
      },
      "execution_count": null,
      "outputs": []
    },
    {
      "cell_type": "code",
      "source": [
        "# Run leiden clustering algorithm\n",
        "sc.tl.leiden(ada2, resolution=0.05)\n",
        "\n",
        "# Visualize\n",
        "sc.pl.umap(ada2, color='leiden', title='RNA UMAP',\n",
        "           frameon=False, legend_fontweight='normal', legend_fontsize=15)\n",
        "# Visualize\n",
        "sc.pl.umap(ada2, color='Cell types level 2', title='RNA UMAP',\n",
        "           frameon=False, legend_fontweight='normal', legend_fontsize=15)"
      ],
      "metadata": {
        "id": "hvyETVJdKf3p"
      },
      "execution_count": null,
      "outputs": []
    },
    {
      "cell_type": "code",
      "source": [
        "dc.run_ora(\n",
        "    mat=ada2,\n",
        "    net=markers,\n",
        "    source='cell_type',\n",
        "    target='genesymbol',\n",
        "    min_n=3,\n",
        "    verbose=True,\n",
        "    use_raw=False\n",
        ")\n",
        "acts2 = dc.get_acts(ada2, obsm_key='ora_estimate')\n",
        "\n",
        "# We need to remove inf and set them to the maximum value observed for pvals=0\n",
        "acts_v2 = acts2.X.ravel()\n",
        "max_e2 = np.nanmax(acts_v2[np.isfinite(acts_v2)])\n",
        "acts2.X[~np.isfinite(acts2.X)] = max_e2\n",
        "\n",
        "df2 = dc.rank_sources_groups(acts2, groupby='leiden', reference='rest', method='t-test_overestim_var')\n",
        "ctypes_dict2 = df.groupby('group').head(n_ctypes).groupby('group')['names'].apply(lambda x: list(x)).to_dict()\n",
        "ctypes_dict2"
      ],
      "metadata": {
        "id": "Ov-eb1NSgEO7"
      },
      "execution_count": null,
      "outputs": []
    }
  ]
}